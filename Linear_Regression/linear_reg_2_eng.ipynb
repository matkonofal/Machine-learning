{
 "cells": [
  {
   "cell_type": "markdown",
   "source": [
    "# Linear regression with multiple variables\n",
    "\n",
    "### Defining model hypothesis\n",
    "\n",
    "Let's assume our model has 5 model parameters. Our hypothesis function will look like this:\n",
    "\n",
    "$$h_\\theta(x) = \\theta_0 + \\theta_1 x_1 + \\theta_2 x_2 + \\theta_3 x_3 + \\theta_4 x_4 + \\theta_5 x_5$$\n",
    "\n",
    "Any model that has <b>n</b> parameters can be defined as:\n",
    "\n",
    "$$h_\\theta(x) = \\theta_0 + \\theta_1 x_1 + ... + \\theta_n x_n$$\n",
    "\n",
    "<br>\n",
    "\n",
    "### Cost function for linear regression with multiple variables\n",
    "\n",
    "Cost function for linear regression with multiple variables can be written using matrix notation and vectors:\n",
    "\n",
    "$$MSE = J(\\theta) = \\frac{1}{2m}(X\\theta - |\\vec{y}|)^T (X\\theta - \\vec{y})$$\n",
    "\n",
    "where:\n",
    "\n",
    "$\\frac{1}{2m}$ is an expression to calculate $half$ of MSE per prediction. We're taking half of MSE due to convenience when calculating the derivative of MSE.\n",
    "\n",
    "$X$ is a feature matrix, where each column corresponds to a different variable, and $\\theta$  is a parameter vector, so $X\\theta$ represents the vector of predicted values (matrix multiplied by a vector results in a vector).\n",
    "\n",
    "$\\vec{y}$ is a vector of actual values.\n",
    "\n",
    "$(X\\theta - \\vec{y})$ = $\n",
    "\\begin{bmatrix}\n",
    "e_1 \\\\\n",
    "e_2 \\\\\n",
    "\\vdots \\\\\n",
    "e_m \\\\\n",
    "\\end{bmatrix}\n",
    "$  is the <b>vector of error</b>, or vector of residuals. It can be read as the difference between the vector of predicted values and the vector of actual values.\n",
    "\n",
    "$(X\\theta - \\vec{y})^T$ is the <b>transposition</b> of the vector of error. If vector of error was a column vector, then the transpose of voe turns into a row vector. If voe was a row vector, then the transpose of voe turns into a column vector.\n",
    "\n",
    "$(X\\theta - \\vec{y})^T(X\\theta - \\vec{y})$ is a <b>dot product</b> between transpose of voe and voe.\n",
    "\n",
    "Calculating the dot product:\n",
    "\n",
    "$(X\\theta - \\vec{y})^T(X\\theta - \\vec{y})$ = $\n",
    "\\begin{bmatrix}\n",
    "e_1 \\\\\n",
    "e_2 \\\\\n",
    "\\vdots \\\\\n",
    "e_m \\\\\n",
    "\\end{bmatrix}\n",
    "$ × $\\begin{bmatrix} e_1 & e_2 & \\cdots & e_m \\end{bmatrix}$ = $e_1 * e_1 + e_2 * e_2 + ... + e_m * e_m $ = $e_1^2 + e_2^2 + ... + e_m^2$\n",
    "\n",
    "<br>\n",
    "\n",
    "### Gradient of the mean squared error (MSE)\n",
    "\n",
    "$$\\nabla(\\theta) = \\frac{1}{m}X^T(X\\theta - \\vec{y})$$\n",
    "\n",
    "$X^T$ - transpose of the feature matrix X.\n",
    "\n",
    "$X\\theta$ - vector of predicted values.\n",
    "\n",
    "$(X\\theta - y)$ - vector of error.\n",
    "\n",
    "$X^T(X\\theta - y)$ - dot product of vector of error and feature matrix.\n",
    "\n",
    "$\\frac{1}{m}$ - used to calculate average across all samples.\n",
    "\n",
    "<br>\n",
    "\n",
    "Gradient of MSE is used to iteratively update the parameter vector $\\theta$.\n",
    "\n",
    "Feature vector is updated using this equation:\n",
    "\n",
    "$$\\theta := \\theta - \\alpha \\nabla J(\\theta)$$"
   ],
   "metadata": {
    "collapsed": false
   }
  },
  {
   "cell_type": "markdown",
   "source": [
    "### Implementing Linear Regression with multiple variables using sklearn"
   ],
   "metadata": {
    "collapsed": false
   }
  },
  {
   "cell_type": "markdown",
   "source": [
    "Import libraries:"
   ],
   "metadata": {
    "collapsed": false
   }
  },
  {
   "cell_type": "code",
   "execution_count": 33,
   "metadata": {
    "collapsed": true
   },
   "outputs": [],
   "source": [
    "import numpy as np\n",
    "import pandas as pd\n",
    "import matplotlib.pyplot as plt\n",
    "import seaborn as sns\n",
    "\n",
    "from sklearn.model_selection import train_test_split\n",
    "from sklearn.linear_model import LinearRegression\n",
    "from sklearn.metrics import mean_squared_error"
   ]
  },
  {
   "cell_type": "markdown",
   "source": [
    "Load data to dataframe:"
   ],
   "metadata": {
    "collapsed": false
   }
  },
  {
   "cell_type": "code",
   "execution_count": 34,
   "outputs": [
    {
     "data": {
      "text/plain": "    Posted On  BHK   Rent  Size            Floor    Area Type  \\\n0  2022-05-18    2  10000  1100  Ground out of 2   Super Area   \n1  2022-05-13    2  20000   800       1 out of 3   Super Area   \n2  2022-05-16    2  17000  1000       1 out of 3   Super Area   \n3  2022-07-04    2  10000   800       1 out of 2   Super Area   \n4  2022-05-09    2   7500   850       1 out of 2  Carpet Area   \n5  2022-04-29    2   7000   600  Ground out of 1   Super Area   \n6  2022-06-21    2  10000   700  Ground out of 4   Super Area   \n7  2022-06-21    1   5000   250       1 out of 2   Super Area   \n8  2022-06-07    2  26000   800       1 out of 2  Carpet Area   \n9  2022-06-20    2  10000  1000       1 out of 3  Carpet Area   \n\n                     Area Locality     City Furnishing Status  \\\n0                           Bandel  Kolkata       Unfurnished   \n1         Phool Bagan, Kankurgachi  Kolkata    Semi-Furnished   \n2          Salt Lake City Sector 2  Kolkata    Semi-Furnished   \n3                      Dumdum Park  Kolkata       Unfurnished   \n4                    South Dum Dum  Kolkata       Unfurnished   \n5                      Thakurpukur  Kolkata       Unfurnished   \n6                         Malancha  Kolkata       Unfurnished   \n7                         Malancha  Kolkata       Unfurnished   \n8  Palm Avenue Kolkata, Ballygunge  Kolkata       Unfurnished   \n9                         Natunhat  Kolkata    Semi-Furnished   \n\n   Tenant Preferred  Bathroom Point of Contact  \n0  Bachelors/Family         2    Contact Owner  \n1  Bachelors/Family         1    Contact Owner  \n2  Bachelors/Family         1    Contact Owner  \n3  Bachelors/Family         1    Contact Owner  \n4         Bachelors         1    Contact Owner  \n5  Bachelors/Family         2    Contact Owner  \n6         Bachelors         2    Contact Agent  \n7         Bachelors         1    Contact Agent  \n8         Bachelors         2    Contact Agent  \n9  Bachelors/Family         2    Contact Owner  ",
      "text/html": "<div>\n<style scoped>\n    .dataframe tbody tr th:only-of-type {\n        vertical-align: middle;\n    }\n\n    .dataframe tbody tr th {\n        vertical-align: top;\n    }\n\n    .dataframe thead th {\n        text-align: right;\n    }\n</style>\n<table border=\"1\" class=\"dataframe\">\n  <thead>\n    <tr style=\"text-align: right;\">\n      <th></th>\n      <th>Posted On</th>\n      <th>BHK</th>\n      <th>Rent</th>\n      <th>Size</th>\n      <th>Floor</th>\n      <th>Area Type</th>\n      <th>Area Locality</th>\n      <th>City</th>\n      <th>Furnishing Status</th>\n      <th>Tenant Preferred</th>\n      <th>Bathroom</th>\n      <th>Point of Contact</th>\n    </tr>\n  </thead>\n  <tbody>\n    <tr>\n      <th>0</th>\n      <td>2022-05-18</td>\n      <td>2</td>\n      <td>10000</td>\n      <td>1100</td>\n      <td>Ground out of 2</td>\n      <td>Super Area</td>\n      <td>Bandel</td>\n      <td>Kolkata</td>\n      <td>Unfurnished</td>\n      <td>Bachelors/Family</td>\n      <td>2</td>\n      <td>Contact Owner</td>\n    </tr>\n    <tr>\n      <th>1</th>\n      <td>2022-05-13</td>\n      <td>2</td>\n      <td>20000</td>\n      <td>800</td>\n      <td>1 out of 3</td>\n      <td>Super Area</td>\n      <td>Phool Bagan, Kankurgachi</td>\n      <td>Kolkata</td>\n      <td>Semi-Furnished</td>\n      <td>Bachelors/Family</td>\n      <td>1</td>\n      <td>Contact Owner</td>\n    </tr>\n    <tr>\n      <th>2</th>\n      <td>2022-05-16</td>\n      <td>2</td>\n      <td>17000</td>\n      <td>1000</td>\n      <td>1 out of 3</td>\n      <td>Super Area</td>\n      <td>Salt Lake City Sector 2</td>\n      <td>Kolkata</td>\n      <td>Semi-Furnished</td>\n      <td>Bachelors/Family</td>\n      <td>1</td>\n      <td>Contact Owner</td>\n    </tr>\n    <tr>\n      <th>3</th>\n      <td>2022-07-04</td>\n      <td>2</td>\n      <td>10000</td>\n      <td>800</td>\n      <td>1 out of 2</td>\n      <td>Super Area</td>\n      <td>Dumdum Park</td>\n      <td>Kolkata</td>\n      <td>Unfurnished</td>\n      <td>Bachelors/Family</td>\n      <td>1</td>\n      <td>Contact Owner</td>\n    </tr>\n    <tr>\n      <th>4</th>\n      <td>2022-05-09</td>\n      <td>2</td>\n      <td>7500</td>\n      <td>850</td>\n      <td>1 out of 2</td>\n      <td>Carpet Area</td>\n      <td>South Dum Dum</td>\n      <td>Kolkata</td>\n      <td>Unfurnished</td>\n      <td>Bachelors</td>\n      <td>1</td>\n      <td>Contact Owner</td>\n    </tr>\n    <tr>\n      <th>5</th>\n      <td>2022-04-29</td>\n      <td>2</td>\n      <td>7000</td>\n      <td>600</td>\n      <td>Ground out of 1</td>\n      <td>Super Area</td>\n      <td>Thakurpukur</td>\n      <td>Kolkata</td>\n      <td>Unfurnished</td>\n      <td>Bachelors/Family</td>\n      <td>2</td>\n      <td>Contact Owner</td>\n    </tr>\n    <tr>\n      <th>6</th>\n      <td>2022-06-21</td>\n      <td>2</td>\n      <td>10000</td>\n      <td>700</td>\n      <td>Ground out of 4</td>\n      <td>Super Area</td>\n      <td>Malancha</td>\n      <td>Kolkata</td>\n      <td>Unfurnished</td>\n      <td>Bachelors</td>\n      <td>2</td>\n      <td>Contact Agent</td>\n    </tr>\n    <tr>\n      <th>7</th>\n      <td>2022-06-21</td>\n      <td>1</td>\n      <td>5000</td>\n      <td>250</td>\n      <td>1 out of 2</td>\n      <td>Super Area</td>\n      <td>Malancha</td>\n      <td>Kolkata</td>\n      <td>Unfurnished</td>\n      <td>Bachelors</td>\n      <td>1</td>\n      <td>Contact Agent</td>\n    </tr>\n    <tr>\n      <th>8</th>\n      <td>2022-06-07</td>\n      <td>2</td>\n      <td>26000</td>\n      <td>800</td>\n      <td>1 out of 2</td>\n      <td>Carpet Area</td>\n      <td>Palm Avenue Kolkata, Ballygunge</td>\n      <td>Kolkata</td>\n      <td>Unfurnished</td>\n      <td>Bachelors</td>\n      <td>2</td>\n      <td>Contact Agent</td>\n    </tr>\n    <tr>\n      <th>9</th>\n      <td>2022-06-20</td>\n      <td>2</td>\n      <td>10000</td>\n      <td>1000</td>\n      <td>1 out of 3</td>\n      <td>Carpet Area</td>\n      <td>Natunhat</td>\n      <td>Kolkata</td>\n      <td>Semi-Furnished</td>\n      <td>Bachelors/Family</td>\n      <td>2</td>\n      <td>Contact Owner</td>\n    </tr>\n  </tbody>\n</table>\n</div>"
     },
     "execution_count": 34,
     "metadata": {},
     "output_type": "execute_result"
    }
   ],
   "source": [
    "df = pd.read_csv(\"House_Rent_Dataset.csv\")\n",
    "\n",
    "df.head(10)"
   ],
   "metadata": {
    "collapsed": false
   }
  },
  {
   "cell_type": "code",
   "execution_count": 35,
   "outputs": [],
   "source": [
    "y = df['Rent']\n",
    "X = df.drop(['Rent', 'Posted On'], axis=1)"
   ],
   "metadata": {
    "collapsed": false
   }
  },
  {
   "cell_type": "code",
   "execution_count": 36,
   "outputs": [
    {
     "data": {
      "text/plain": "    Posted On  BHK   Rent  Size            Floor    Area Type  \\\n0  2022-05-18    2  10000  1100  Ground out of 2   Super Area   \n1  2022-05-13    2  20000   800       1 out of 3   Super Area   \n2  2022-05-16    2  17000  1000       1 out of 3   Super Area   \n3  2022-07-04    2  10000   800       1 out of 2   Super Area   \n4  2022-05-09    2   7500   850       1 out of 2  Carpet Area   \n5  2022-04-29    2   7000   600  Ground out of 1   Super Area   \n6  2022-06-21    2  10000   700  Ground out of 4   Super Area   \n7  2022-06-21    1   5000   250       1 out of 2   Super Area   \n8  2022-06-07    2  26000   800       1 out of 2  Carpet Area   \n9  2022-06-20    2  10000  1000       1 out of 3  Carpet Area   \n\n                     Area Locality     City Furnishing Status  \\\n0                           Bandel  Kolkata       Unfurnished   \n1         Phool Bagan, Kankurgachi  Kolkata    Semi-Furnished   \n2          Salt Lake City Sector 2  Kolkata    Semi-Furnished   \n3                      Dumdum Park  Kolkata       Unfurnished   \n4                    South Dum Dum  Kolkata       Unfurnished   \n5                      Thakurpukur  Kolkata       Unfurnished   \n6                         Malancha  Kolkata       Unfurnished   \n7                         Malancha  Kolkata       Unfurnished   \n8  Palm Avenue Kolkata, Ballygunge  Kolkata       Unfurnished   \n9                         Natunhat  Kolkata    Semi-Furnished   \n\n   Tenant Preferred  Bathroom Point of Contact  \n0  Bachelors/Family         2    Contact Owner  \n1  Bachelors/Family         1    Contact Owner  \n2  Bachelors/Family         1    Contact Owner  \n3  Bachelors/Family         1    Contact Owner  \n4         Bachelors         1    Contact Owner  \n5  Bachelors/Family         2    Contact Owner  \n6         Bachelors         2    Contact Agent  \n7         Bachelors         1    Contact Agent  \n8         Bachelors         2    Contact Agent  \n9  Bachelors/Family         2    Contact Owner  ",
      "text/html": "<div>\n<style scoped>\n    .dataframe tbody tr th:only-of-type {\n        vertical-align: middle;\n    }\n\n    .dataframe tbody tr th {\n        vertical-align: top;\n    }\n\n    .dataframe thead th {\n        text-align: right;\n    }\n</style>\n<table border=\"1\" class=\"dataframe\">\n  <thead>\n    <tr style=\"text-align: right;\">\n      <th></th>\n      <th>Posted On</th>\n      <th>BHK</th>\n      <th>Rent</th>\n      <th>Size</th>\n      <th>Floor</th>\n      <th>Area Type</th>\n      <th>Area Locality</th>\n      <th>City</th>\n      <th>Furnishing Status</th>\n      <th>Tenant Preferred</th>\n      <th>Bathroom</th>\n      <th>Point of Contact</th>\n    </tr>\n  </thead>\n  <tbody>\n    <tr>\n      <th>0</th>\n      <td>2022-05-18</td>\n      <td>2</td>\n      <td>10000</td>\n      <td>1100</td>\n      <td>Ground out of 2</td>\n      <td>Super Area</td>\n      <td>Bandel</td>\n      <td>Kolkata</td>\n      <td>Unfurnished</td>\n      <td>Bachelors/Family</td>\n      <td>2</td>\n      <td>Contact Owner</td>\n    </tr>\n    <tr>\n      <th>1</th>\n      <td>2022-05-13</td>\n      <td>2</td>\n      <td>20000</td>\n      <td>800</td>\n      <td>1 out of 3</td>\n      <td>Super Area</td>\n      <td>Phool Bagan, Kankurgachi</td>\n      <td>Kolkata</td>\n      <td>Semi-Furnished</td>\n      <td>Bachelors/Family</td>\n      <td>1</td>\n      <td>Contact Owner</td>\n    </tr>\n    <tr>\n      <th>2</th>\n      <td>2022-05-16</td>\n      <td>2</td>\n      <td>17000</td>\n      <td>1000</td>\n      <td>1 out of 3</td>\n      <td>Super Area</td>\n      <td>Salt Lake City Sector 2</td>\n      <td>Kolkata</td>\n      <td>Semi-Furnished</td>\n      <td>Bachelors/Family</td>\n      <td>1</td>\n      <td>Contact Owner</td>\n    </tr>\n    <tr>\n      <th>3</th>\n      <td>2022-07-04</td>\n      <td>2</td>\n      <td>10000</td>\n      <td>800</td>\n      <td>1 out of 2</td>\n      <td>Super Area</td>\n      <td>Dumdum Park</td>\n      <td>Kolkata</td>\n      <td>Unfurnished</td>\n      <td>Bachelors/Family</td>\n      <td>1</td>\n      <td>Contact Owner</td>\n    </tr>\n    <tr>\n      <th>4</th>\n      <td>2022-05-09</td>\n      <td>2</td>\n      <td>7500</td>\n      <td>850</td>\n      <td>1 out of 2</td>\n      <td>Carpet Area</td>\n      <td>South Dum Dum</td>\n      <td>Kolkata</td>\n      <td>Unfurnished</td>\n      <td>Bachelors</td>\n      <td>1</td>\n      <td>Contact Owner</td>\n    </tr>\n    <tr>\n      <th>5</th>\n      <td>2022-04-29</td>\n      <td>2</td>\n      <td>7000</td>\n      <td>600</td>\n      <td>Ground out of 1</td>\n      <td>Super Area</td>\n      <td>Thakurpukur</td>\n      <td>Kolkata</td>\n      <td>Unfurnished</td>\n      <td>Bachelors/Family</td>\n      <td>2</td>\n      <td>Contact Owner</td>\n    </tr>\n    <tr>\n      <th>6</th>\n      <td>2022-06-21</td>\n      <td>2</td>\n      <td>10000</td>\n      <td>700</td>\n      <td>Ground out of 4</td>\n      <td>Super Area</td>\n      <td>Malancha</td>\n      <td>Kolkata</td>\n      <td>Unfurnished</td>\n      <td>Bachelors</td>\n      <td>2</td>\n      <td>Contact Agent</td>\n    </tr>\n    <tr>\n      <th>7</th>\n      <td>2022-06-21</td>\n      <td>1</td>\n      <td>5000</td>\n      <td>250</td>\n      <td>1 out of 2</td>\n      <td>Super Area</td>\n      <td>Malancha</td>\n      <td>Kolkata</td>\n      <td>Unfurnished</td>\n      <td>Bachelors</td>\n      <td>1</td>\n      <td>Contact Agent</td>\n    </tr>\n    <tr>\n      <th>8</th>\n      <td>2022-06-07</td>\n      <td>2</td>\n      <td>26000</td>\n      <td>800</td>\n      <td>1 out of 2</td>\n      <td>Carpet Area</td>\n      <td>Palm Avenue Kolkata, Ballygunge</td>\n      <td>Kolkata</td>\n      <td>Unfurnished</td>\n      <td>Bachelors</td>\n      <td>2</td>\n      <td>Contact Agent</td>\n    </tr>\n    <tr>\n      <th>9</th>\n      <td>2022-06-20</td>\n      <td>2</td>\n      <td>10000</td>\n      <td>1000</td>\n      <td>1 out of 3</td>\n      <td>Carpet Area</td>\n      <td>Natunhat</td>\n      <td>Kolkata</td>\n      <td>Semi-Furnished</td>\n      <td>Bachelors/Family</td>\n      <td>2</td>\n      <td>Contact Owner</td>\n    </tr>\n  </tbody>\n</table>\n</div>"
     },
     "execution_count": 36,
     "metadata": {},
     "output_type": "execute_result"
    }
   ],
   "source": [
    "df.head(10)"
   ],
   "metadata": {
    "collapsed": false
   }
  },
  {
   "cell_type": "code",
   "execution_count": 37,
   "outputs": [
    {
     "data": {
      "text/plain": "Index(['BHK', 'Size', 'Floor', 'Area Type', 'Area Locality', 'City',\n       'Furnishing Status', 'Tenant Preferred', 'Bathroom',\n       'Point of Contact'],\n      dtype='object')"
     },
     "execution_count": 37,
     "metadata": {},
     "output_type": "execute_result"
    }
   ],
   "source": [
    "X.columns"
   ],
   "metadata": {
    "collapsed": false
   }
  }
 ],
 "metadata": {
  "kernelspec": {
   "display_name": "Python 3",
   "language": "python",
   "name": "python3"
  },
  "language_info": {
   "codemirror_mode": {
    "name": "ipython",
    "version": 2
   },
   "file_extension": ".py",
   "mimetype": "text/x-python",
   "name": "python",
   "nbconvert_exporter": "python",
   "pygments_lexer": "ipython2",
   "version": "2.7.6"
  }
 },
 "nbformat": 4,
 "nbformat_minor": 0
}
