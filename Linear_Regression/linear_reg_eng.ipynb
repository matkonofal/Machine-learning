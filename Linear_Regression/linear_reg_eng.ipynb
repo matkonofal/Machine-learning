{
 "cells": [
  {
   "cell_type": "markdown",
   "source": [
    "# Linear Regression"
   ],
   "metadata": {
    "collapsed": false
   }
  },
  {
   "cell_type": "markdown",
   "source": [
    "### The concept of Linear Regression\n",
    "\n",
    "\n",
    "<b> Linear regression </b> is a concept that is used for predicting continuous outcome variable (commonly denoted as y, also called as a dependent variable). Linear regression assumes linear relationship between the variables, so any changes in x variable will be associated with constant change in y variable.\n",
    "\n",
    "Standard linear equation:\n",
    "$$ y = a x + b $$\n",
    "\n",
    "We will be making a function $ h(x) $ that tries to reassemble the relationship between y and x:\n",
    "$$ h(x) = a x + b $$\n",
    "\n",
    "where $ h(x) ∼ y $.\n",
    "\n",
    "It's important to remember that a and b are unknown to us - it's our model's job to find their values so that h(x) will be as similar to y as possible. Function <b> h </b> is what we call a <b> hypothesis function </b>, <b> a and b </b> are known as <b> model parameters </b> and $ x_1, x_2, ..., x_n $ are known as <b> input features </b>.\n",
    "\n",
    "Model parameters are generally denoted with a greek letter $ \\theta $ with an appropriate index. They make a vector:\n",
    "\n",
    "$$\n",
    "\\theta = \\left [\n",
    "\\begin{matrix}\n",
    "\\theta_0 \\\\\n",
    "\\theta_1\n",
    "\\end{matrix}\n",
    "\\right ]\n",
    "$$\n",
    "\n",
    "Therefore the linear equation:\n",
    "$$ y = a x + b $$\n",
    "\n",
    "becomes:\n",
    "$$ h_\\theta (x) = \\theta_0 + \\theta_1 x_1 $$\n",
    "\n",
    "where:\n",
    "\n",
    "$$ y ∼ h_\\theta (x) , $$\n",
    "$$ a ∼ \\theta_1 , $$\n",
    "$$ b ∼ \\theta_0 , $$\n",
    "$$ x^n ∼ x_n . $$\n"
   ],
   "metadata": {
    "collapsed": false
   }
  },
  {
   "cell_type": "markdown",
   "source": [
    "### Cost function\n",
    "\n",
    "<b> Cost function </b>, also know as loss function or objective function, measures how well a machine learning model performs on a dataset. It quantifies the difference between the actual values and the values given by our model. The goal during the training process is to minimize the cost function as much as possible.\n",
    "\n",
    "<b> Mean Squared Error </b> (MSE) is commonly used as a cost function. It calculated the mean difference between the output values and the actual values:\n",
    "\n",
    "$$ MSE = J( \\theta ) = \\frac{1}{m} \\sum_{i=1}^m ( h_\\theta (x^{(i)}) - y^{(i)})^2 $$\n",
    "\n",
    "where m is equivalent to the size of training set, e.g. if we had 50 examples in our training set (with output variables $ y^{1}, y^{2},..., y^{50} $), then our model made 50 predictions ( $ h_\\theta (x^{(1)}), h_\\theta (x^{(2)}),..., h_\\theta (x^{(50)} $) and so we calculate the <b> mean squared difference </b> between them.\n",
    "\n",
    "Now that we can measure how good our model is, we adjust model parameters so that MSE is as low as possible:\n",
    "\n",
    "$$ \\hat \\theta = \\text{argmin}_\\theta J(\\theta) $$\n",
    "\n",
    "We usually minimize cost function by trying to find its <b>local minimum</b>."
   ],
   "metadata": {
    "collapsed": false
   }
  },
  {
   "cell_type": "markdown",
   "source": [
    "### Finding local minimum using Gradient Descent\n",
    "\n",
    "<b> Gradient Descent </b> is an optimization algorithm used to find a local minimum of a cost function, which minimizes cost function during the training of a model, which makes the model more accurate. The idea is to iteratively update the parameters of the model in the direction of steepest descent of the cost function. In a nutshell, the steps of Gradient Descent algorithm are:\n",
    "\n",
    "1. Initialize the model with a starting set of parameters\n",
    "2. Calculate the gradient with respect to each parameter\n",
    "3. Update parameters of the model in the direction opposite to the gradient\n",
    "$$ \\text {New Parameter} = \\text {Old Parameter} - \\text {Learning Rate} × \\text {Gradient} $$\n",
    "\n",
    "In each iteration, we're updating model parameters as such:\n",
    "\n",
    "$$ \\theta_j := \\theta_j - \\alpha \\frac{\\partial}{\\partial \\theta_j} J(\\theta) $$\n",
    "\n",
    "Where $ \\alpha $ is the learning rate which dictates how fast the algorithm is adapting.\n",
    "\n",
    "$$ \\frac{\\partial}{\\partial \\theta_j} J(\\theta) = \\frac{2}{m} \\sum_{i=1}^m ( h_\\theta (x^{(i)}) - y^{(i)}) x_j^{(i)} $$\n",
    "\n",
    "If \\alpha is too small, Gradient Descent will take a long time to process.\n",
    "If \\alpha is too big, Gradient Descent might never find local minimum and can become unstable.\n",
    "\n",
    "Let's take a look at our linear model equation:\n",
    "$$ h_\\theta (x) = \\theta_0 + \\theta_1 x_1 $$\n",
    "\n",
    "It follows a pattern of $ \\theta_j + x_j $, however there is no $ x_0 $. It's because $ x_0 = 1 $, so we don't need to write it in our equation, but knowing this lets us simplify our expression for $ \\theta_0 $:\n",
    "\n",
    "$$ \\theta_0 := \\theta_0 - \\frac{2}{m} \\sum_{i=1}^m ( h_\\theta (x^{(i)}) - y^{(i)}) * 1 $$\n",
    "\n",
    "Expression for $ \\theta_1 $ looks as follows:\n",
    "\n",
    "$$ \\theta_1 := \\theta_1 - \\frac{2}{m} \\sum_{i=1}^m ( h_\\theta (x^{(i)}) - y^{(i)}) * x_1^{(i)} $$\n",
    "\n",
    "Every parameter is updated at the same time. We repeat the steps as long as:\n",
    "\n",
    "$$ \\epsilon \\leqslant J(\\theta) $$\n",
    "\n",
    "where $ \\epsilon $ is the stopping condition. In practice, reducing cost function using Gradient Descent will produce effect reassembling asymptote, which mean if will never actually be 0, so we're introducing an artificial value that acts as us saying the algorithm is \"good enough\"."
   ],
   "metadata": {
    "collapsed": false
   }
  },
  {
   "cell_type": "markdown",
   "source": [
    "### Implementing Linear Regression"
   ],
   "metadata": {
    "collapsed": false
   }
  },
  {
   "cell_type": "code",
   "execution_count": 8,
   "outputs": [],
   "source": [
    "import numpy as np\n",
    "import matplotlib.pyplot as plt\n",
    "import pandas as pd"
   ],
   "metadata": {
    "collapsed": false
   }
  },
  {
   "cell_type": "code",
   "execution_count": 9,
   "outputs": [
    {
     "data": {
      "text/plain": "                    x          y\n0  mosquito_Indicator  mean_T(℃)\n1               254.4       18.8\n2               273.5       21.1\n3               304.0       12.9\n4               256.2       15.7\n5               243.8       18.9\n6               248.5       16.3\n7               243.2       16.5\n8               249.0       19.4\n9               249.6       20.2",
      "text/html": "<div>\n<style scoped>\n    .dataframe tbody tr th:only-of-type {\n        vertical-align: middle;\n    }\n\n    .dataframe tbody tr th {\n        vertical-align: top;\n    }\n\n    .dataframe thead th {\n        text-align: right;\n    }\n</style>\n<table border=\"1\" class=\"dataframe\">\n  <thead>\n    <tr style=\"text-align: right;\">\n      <th></th>\n      <th>x</th>\n      <th>y</th>\n    </tr>\n  </thead>\n  <tbody>\n    <tr>\n      <th>0</th>\n      <td>mosquito_Indicator</td>\n      <td>mean_T(℃)</td>\n    </tr>\n    <tr>\n      <th>1</th>\n      <td>254.4</td>\n      <td>18.8</td>\n    </tr>\n    <tr>\n      <th>2</th>\n      <td>273.5</td>\n      <td>21.1</td>\n    </tr>\n    <tr>\n      <th>3</th>\n      <td>304.0</td>\n      <td>12.9</td>\n    </tr>\n    <tr>\n      <th>4</th>\n      <td>256.2</td>\n      <td>15.7</td>\n    </tr>\n    <tr>\n      <th>5</th>\n      <td>243.8</td>\n      <td>18.9</td>\n    </tr>\n    <tr>\n      <th>6</th>\n      <td>248.5</td>\n      <td>16.3</td>\n    </tr>\n    <tr>\n      <th>7</th>\n      <td>243.2</td>\n      <td>16.5</td>\n    </tr>\n    <tr>\n      <th>8</th>\n      <td>249.0</td>\n      <td>19.4</td>\n    </tr>\n    <tr>\n      <th>9</th>\n      <td>249.6</td>\n      <td>20.2</td>\n    </tr>\n  </tbody>\n</table>\n</div>"
     },
     "execution_count": 9,
     "metadata": {},
     "output_type": "execute_result"
    }
   ],
   "source": [
    "columns_to_load = [1, 3]\n",
    "data = pd.read_csv(\"mosquito_Indicator.csv\", usecols=columns_to_load, names=[\"x\", \"y\"])\n",
    "data.head(10)"
   ],
   "metadata": {
    "collapsed": false
   }
  },
  {
   "cell_type": "code",
   "execution_count": null,
   "outputs": [],
   "source": [],
   "metadata": {
    "collapsed": false
   }
  }
 ],
 "metadata": {
  "kernelspec": {
   "display_name": "Python 3",
   "language": "python",
   "name": "python3"
  },
  "language_info": {
   "codemirror_mode": {
    "name": "ipython",
    "version": 2
   },
   "file_extension": ".py",
   "mimetype": "text/x-python",
   "name": "python",
   "nbconvert_exporter": "python",
   "pygments_lexer": "ipython2",
   "version": "2.7.6"
  }
 },
 "nbformat": 4,
 "nbformat_minor": 0
}
